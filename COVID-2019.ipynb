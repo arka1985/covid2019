{
 "cells": [
  {
   "cell_type": "code",
   "execution_count": 127,
   "metadata": {},
   "outputs": [],
   "source": [
    "import pandas as pd\n",
    "import io\n",
    "import requests\n",
    "import plotly\n",
    "plotly.tools.set_credentials_file(username='arka.doctor', api_key='iFFxdM40vW50JV0dAKSc')\n",
    "import plotly.plotly as py\n",
    "import plotly.graph_objs as go\n",
    "import numpy as np\n",
    "import pandas as pd\n",
    "from plotly import tools\n",
    "url_c=\"https://raw.githubusercontent.com/CSSEGISandData/COVID-19/master/time_series/time_series_2019-ncov-Confirmed.csv\"\n",
    "url_r=\"https://raw.githubusercontent.com/CSSEGISandData/COVID-19/master/time_series/time_series_2019-ncov-Recovered.csv\"\n",
    "url_d=\"https://raw.githubusercontent.com/CSSEGISandData/COVID-19/master/time_series/time_series_2019-ncov-Deaths.csv\"\n",
    "c=requests.get(url_c).content\n",
    "r=requests.get(url_r).content\n",
    "d=requests.get(url_d).content\n",
    "confirmed=pd.read_csv(io.StringIO(c.decode('utf-8')))\n",
    "recorved=pd.read_csv(io.StringIO(r.decode('utf-8')))\n",
    "death=pd.read_csv(io.StringIO(d.decode('utf-8')))\n",
    "Total_Confirmed = confirmed.iloc[:,-1].sum()\n",
    "Total_Recorved = recorved.iloc[:,-1].sum()\n",
    "Total_Death = death.iloc[:,-1].sum()\n",
    "China_Confirmed = confirmed.iloc[:31,-1].sum()\n",
    "China_Recorved = recorved.iloc[:31,-1].sum()\n",
    "China_Death = death.iloc[:31,-1].sum()\n",
    "India_Confirmed = confirmed.iloc[58:59,-1]\n",
    "India_Recorved = recorved.iloc[58:59,-1]\n",
    "India_Death = death.iloc[58:59,-1]\n",
    "Total_CFR = round(((Total_Death/Total_Confirmed)*100),2)\n",
    "China_CFR = round(((China_Death/China_Confirmed)*100),2)\n",
    "India_CFR = round(((India_Death/India_Confirmed)*100),2)\n",
    "fig = go.Figure(data=[go.Table\n",
    "                      (header=dict(values=['Status','Confirm', 'Recover','Death','CFR'],fill = dict(color='#C2D4FF')),\n",
    "                       cells=dict(values=[['Global','China','India'],[Total_Confirmed,China_Confirmed,India_Confirmed], [Total_Recorved,China_Recorved,India_Recorved],[Total_Death,China_Death,India_Death],[Total_CFR,China_CFR,India_CFR]]))])\n",
    "fig.layout.update(title=\"Current Status of nCoV-2019 Infection\" \"\\n\" \"Data: Github COVID-19 Data Repo\" \"\\n\" \"Developed by: Dr. Arkaprabha Sau\",height=380, width=380)\n",
    "py.iplot(fig, filename='COVID-2019')\n",
    "plot_url = py.plot(fig, filename='Latest Status on COVID-2019')"
   ]
  }
 ],
 "metadata": {
  "kernelspec": {
   "display_name": "Python 3",
   "language": "python",
   "name": "python3"
  },
  "language_info": {
   "codemirror_mode": {
    "name": "ipython",
    "version": 3
   },
   "file_extension": ".py",
   "mimetype": "text/x-python",
   "name": "python",
   "nbconvert_exporter": "python",
   "pygments_lexer": "ipython3",
   "version": "3.6.9"
  }
 },
 "nbformat": 4,
 "nbformat_minor": 2
}
